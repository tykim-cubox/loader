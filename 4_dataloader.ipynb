{
 "cells": [
  {
   "cell_type": "code",
   "execution_count": 2,
   "metadata": {},
   "outputs": [],
   "source": [
    "import numbers\n",
    "import os\n",
    "import queue as Queue\n",
    "import threading\n",
    "\n",
    "import numpy as np\n",
    "import torch\n",
    "from torch.utils.data import DataLoader, Dataset\n",
    "from torchvision import transforms\n",
    "\n",
    "from prefetch_generator import BackgroundGenerator"
   ]
  },
  {
   "cell_type": "code",
   "execution_count": 4,
   "metadata": {},
   "outputs": [],
   "source": [
    "import os\n",
    "import time\n",
    "import numpy as np\n",
    "\n",
    "import albumentations as A\n",
    "import albumentations.pytorch\n",
    "import kornia as K\n",
    "import torch.nn as nn\n",
    "import torch.utils.data\n",
    "import torchvision.transforms as T\n",
    "from torch.utils.data import Dataset, DataLoader\n",
    "\n",
    "from set_loader import CustomDataset, CustomAlbDataset, CustomKorDataset\n",
    "\n",
    "import cv2\n",
    "\n",
    "cv2.setNumThreads(0)\n",
    "cv2.ocl.setUseOpenCL(False)"
   ]
  },
  {
   "cell_type": "code",
   "execution_count": 3,
   "metadata": {},
   "outputs": [],
   "source": [
    "class DataLoaderX(DataLoader):\n",
    "    def __init__(self, local_rank, **kwargs):\n",
    "        super(DataLoaderX, self).__init__(**kwargs)\n",
    "        self.stream = torch.cuda.Stream(local_rank)\n",
    "        self.local_rank = local_rank\n",
    "\n",
    "    def __iter__(self):\n",
    "        self.iter = super(DataLoaderX, self).__iter__()\n",
    "        self.iter = BackgroundGenerator(self.iter, self.local_rank)\n",
    "        self.preload()\n",
    "        return self\n",
    "\n",
    "    def preload(self):\n",
    "        self.batch = next(self.iter, None)\n",
    "        if self.batch is None:\n",
    "            return None\n",
    "        with torch.cuda.stream(self.stream):\n",
    "            for k in range(len(self.batch)):\n",
    "                self.batch[k] = self.batch[k].to(device=self.local_rank,\n",
    "                                                 non_blocking=True)\n",
    "\n",
    "    def __next__(self):\n",
    "        torch.cuda.current_stream().wait_stream(self.stream)\n",
    "        batch = self.batch\n",
    "        if batch is None:\n",
    "            raise StopIteration\n",
    "        self.preload()\n",
    "        return batch"
   ]
  },
  {
   "cell_type": "code",
   "execution_count": 5,
   "metadata": {},
   "outputs": [
    {
     "name": "stderr",
     "output_type": "stream",
     "text": [
      "/home/aiteam/miniconda3/envs/loader/lib/python3.9/site-packages/albumentations/augmentations/dropout/cutout.py:50: FutureWarning: Cutout has been deprecated. Please use CoarseDropout\n",
      "  warnings.warn(\n"
     ]
    }
   ],
   "source": [
    "p = 1.0\n",
    "albumentations_transform = A.Compose([\n",
    "    A.RandomCrop(256, 256, p=p),\n",
    "    A.HorizontalFlip(p=p),\n",
    "    A.Normalize((0.5, 0.5, 0.5), (0.5, 0.5, 0.5), p=p),\n",
    "    A.dropout.Cutout(num_holes=8, max_h_size=8, max_w_size=8, fill_value=0, p=p),\n",
    "    A.pytorch.ToTensorV2(),\n",
    "])"
   ]
  },
  {
   "cell_type": "code",
   "execution_count": 8,
   "metadata": {},
   "outputs": [],
   "source": [
    "# jpeg4py + albumentation \n",
    "root_path = '/home/aiteam/tykim/dataset/afhq/train'\n",
    "custom_ds = CustomAlbDataset(root_path, loader_type='jpeg4py', transform=albumentations_transform)\n",
    "dataloader = DataLoaderX(dataset=custom_ds, batch_size=128, shuffle=False, num_workers=8, local_rank=0)"
   ]
  },
  {
   "cell_type": "code",
   "execution_count": 9,
   "metadata": {},
   "outputs": [
    {
     "name": "stdout",
     "output_type": "stream",
     "text": [
      "[7.47588586807251] sec\n",
      "[7.071631669998169] sec\n",
      "[8.352059841156006] sec\n",
      "[6.941926717758179] sec\n",
      "[30.283140897750854] sec\n",
      "[7.166435241699219] sec\n",
      "[7.380136013031006] sec\n",
      "[7.071781396865845] sec\n",
      "[13.012507915496826] sec\n",
      "10.5 s ± 3.08 s per loop (mean ± std. dev. of 3 runs, 3 loops each)\n"
     ]
    }
   ],
   "source": [
    "%%timeit -r 3 -n 3\n",
    "simple_load_times = []\n",
    "start_time = time.time()\n",
    "for image, label in dataloader:\n",
    "    image = image.cuda()\n",
    "    label = label.cuda()\n",
    "    pass\n",
    "jpeg4py_alb_time = time.time() - start_time\n",
    "simple_load_times.append(jpeg4py_alb_time)\n",
    "print(str(simple_load_times) + ' sec')"
   ]
  }
 ],
 "metadata": {
  "kernelspec": {
   "display_name": "Python 3.9.13 ('loader')",
   "language": "python",
   "name": "python3"
  },
  "language_info": {
   "codemirror_mode": {
    "name": "ipython",
    "version": 3
   },
   "file_extension": ".py",
   "mimetype": "text/x-python",
   "name": "python",
   "nbconvert_exporter": "python",
   "pygments_lexer": "ipython3",
   "version": "3.9.13"
  },
  "orig_nbformat": 4,
  "vscode": {
   "interpreter": {
    "hash": "a254999b829cf7a75923305dbce36972a67b91fdc16edd342b076b25e04d6382"
   }
  }
 },
 "nbformat": 4,
 "nbformat_minor": 2
}
